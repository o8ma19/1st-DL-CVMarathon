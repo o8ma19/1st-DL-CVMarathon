{
 "cells": [
  {
   "cell_type": "markdown",
   "metadata": {},
   "source": [
    "# 作業\n",
    "\n",
    "使用 [Lena](http://optipng.sourceforge.net/pngtech/img/lena.png)\n",
    "\n",
    "- 改變圖片的 color space (`HLS`, `LAB`) 並呈現"
   ]
  },
  {
   "cell_type": "code",
   "execution_count": 6,
   "metadata": {},
   "outputs": [],
   "source": [
    "import cv2\n",
    "\n",
    "img_path = r'C:\\Users\\o8ma1\\Desktop\\CVandDL_Marathon\\lena.png'\n",
    "\n",
    "#read a image in default, BGR type.\n",
    "img = cv2.imread(img_path)\n",
    "\n",
    "#covert the BGR img to HSV, HSL, LAB, repectively.\n",
    "img_HLV = cv2.cvtColor(img, cv2.COLOR_BGR2HSV)\n",
    "img_HSL = cv2.cvtColor(img, cv2.COLOR_BGR2HLS)\n",
    "img_LAB = cv2.cvtColor(img, cv2.COLOR_BGR2LAB)\n",
    "\n",
    "while True:\n",
    "    cv2.imshow('BGR', img)\n",
    "    cv2.imshow('HSV', img_HLV)\n",
    "    cv2.imshow('HSL', img_HSL)\n",
    "    cv2.imshow('LAB', img_LAB)\n",
    "    \n",
    "    k = cv2.waitKey(0)\n",
    "    \n",
    "    if(k==27):\n",
    "        cv2.destroyAllWindows()\n",
    "        break"
   ]
  }
 ],
 "metadata": {
  "kernelspec": {
   "display_name": "Python 3",
   "language": "python",
   "name": "python3"
  },
  "language_info": {
   "codemirror_mode": {
    "name": "ipython",
    "version": 3
   },
   "file_extension": ".py",
   "mimetype": "text/x-python",
   "name": "python",
   "nbconvert_exporter": "python",
   "pygments_lexer": "ipython3",
   "version": "3.7.4"
  }
 },
 "nbformat": 4,
 "nbformat_minor": 2
}
