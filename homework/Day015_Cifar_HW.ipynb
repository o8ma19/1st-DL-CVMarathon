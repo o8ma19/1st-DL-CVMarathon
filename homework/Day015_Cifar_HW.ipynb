{
  "nbformat": 4,
  "nbformat_minor": 0,
  "metadata": {
    "kernelspec": {
      "name": "python3",
      "display_name": "Python 3"
    },
    "language_info": {
      "codemirror_mode": {
        "name": "ipython",
        "version": 3
      },
      "file_extension": ".py",
      "mimetype": "text/x-python",
      "name": "python",
      "nbconvert_exporter": "python",
      "pygments_lexer": "ipython3",
      "version": "3.7.4"
    },
    "colab": {
      "name": "Day015_Cifar_HW.ipynb",
      "provenance": [],
      "collapsed_sections": [],
      "toc_visible": true,
      "include_colab_link": true
    },
    "accelerator": "GPU"
  },
  "cells": [
    {
      "cell_type": "markdown",
      "metadata": {
        "id": "view-in-github",
        "colab_type": "text"
      },
      "source": [
        "<a href=\"https://colab.research.google.com/github/o8ma19/1st-DL-CVMarathon/blob/master/homework/Day015_Cifar_HW.ipynb\" target=\"_parent\"><img src=\"https://colab.research.google.com/assets/colab-badge.svg\" alt=\"Open In Colab\"/></a>"
      ]
    },
    {
      "cell_type": "markdown",
      "metadata": {
        "id": "zoatH6-TAeJB",
        "colab_type": "text"
      },
      "source": [
        "## 『本次練習內容』\n",
        "#### 運用這幾天所學觀念搭建一個CNN分類器"
      ]
    },
    {
      "cell_type": "markdown",
      "metadata": {
        "id": "yQcFrBiwAeJC",
        "colab_type": "text"
      },
      "source": [
        "## 『本次練習目的』\n",
        "  #### 熟悉CNN分類器搭建步驟與原理\n",
        "  #### 學員們可以嘗試不同搭法，如使用不同的Maxpooling層，用GlobalAveragePooling取代Flatten等等"
      ]
    },
    {
      "cell_type": "code",
      "metadata": {
        "id": "s7pnwqYgAeJE",
        "colab_type": "code",
        "colab": {
          "base_uri": "https://localhost:8080/",
          "height": 81
        },
        "outputId": "5235f634-540a-42ad-b178-580ade21a243"
      },
      "source": [
        "from keras.models import Sequential\n",
        "from keras.layers import Convolution2D\n",
        "from keras.layers import MaxPooling2D\n",
        "from keras.layers import Flatten\n",
        "from keras.layers import Dense\n",
        "from keras.layers import Dropout\n",
        "from keras.layers import BatchNormalization\n",
        "from keras.datasets import cifar10\n",
        "import numpy as np\n",
        "import tensorflow as tf\n",
        "from sklearn.preprocessing import OneHotEncoder\n"
      ],
      "execution_count": 2,
      "outputs": [
        {
          "output_type": "stream",
          "text": [
            "Using TensorFlow backend.\n"
          ],
          "name": "stderr"
        },
        {
          "output_type": "display_data",
          "data": {
            "text/html": [
              "<p style=\"color: red;\">\n",
              "The default version of TensorFlow in Colab will soon switch to TensorFlow 2.x.<br>\n",
              "We recommend you <a href=\"https://www.tensorflow.org/guide/migrate\" target=\"_blank\">upgrade</a> now \n",
              "or ensure your notebook will continue to use TensorFlow 1.x via the <code>%tensorflow_version 1.x</code> magic:\n",
              "<a href=\"https://colab.research.google.com/notebooks/tensorflow_version.ipynb\" target=\"_blank\">more info</a>.</p>\n"
            ],
            "text/plain": [
              "<IPython.core.display.HTML object>"
            ]
          },
          "metadata": {
            "tags": []
          }
        }
      ]
    },
    {
      "cell_type": "code",
      "metadata": {
        "id": "8tbXfUHjAeJH",
        "colab_type": "code",
        "colab": {
          "base_uri": "https://localhost:8080/",
          "height": 69
        },
        "outputId": "5534380e-e85c-45dc-a44a-5573f022b9e8"
      },
      "source": [
        "(x_train, y_train), (x_test, y_test) = cifar10.load_data()\n",
        "\n",
        "print(x_train.shape) #(50000, 32, 32, 3)\n",
        "\n",
        "## Normalize Data\n",
        "def normalize(X_train,X_test):\n",
        "        mean = np.mean(X_train,axis=(0,1,2,3))\n",
        "        std = np.std(X_train, axis=(0, 1, 2, 3))\n",
        "        X_train = (X_train-mean)/(std+1e-7)\n",
        "        X_test = (X_test-mean)/(std+1e-7) \n",
        "        return X_train, X_test,mean,std\n",
        "    \n",
        "## Normalize Training and Testset    \n",
        "x_train, x_test,mean_train,std_train = normalize(x_train, x_test)\n",
        "#print(x_train, x_test,mean_train,std_train)"
      ],
      "execution_count": 3,
      "outputs": [
        {
          "output_type": "stream",
          "text": [
            "Downloading data from https://www.cs.toronto.edu/~kriz/cifar-10-python.tar.gz\n",
            "170500096/170498071 [==============================] - 2s 0us/step\n",
            "(50000, 32, 32, 3)\n"
          ],
          "name": "stdout"
        }
      ]
    },
    {
      "cell_type": "code",
      "metadata": {
        "id": "ZXYwXS1VAeJL",
        "colab_type": "code",
        "colab": {}
      },
      "source": [
        "## OneHot Label 由(None, 1)-(None, 10)\n",
        "## ex. label=2,變成[0,0,1,0,0,0,0,0,0,0]\n",
        "one_hot=OneHotEncoder(categories='auto')\n",
        "y_train=one_hot.fit_transform(y_train).toarray()\n",
        "y_test=one_hot.transform(y_test).toarray()"
      ],
      "execution_count": 0,
      "outputs": []
    },
    {
      "cell_type": "code",
      "metadata": {
        "scrolled": true,
        "id": "ENobCRJCAeJO",
        "colab_type": "code",
        "colab": {
          "base_uri": "https://localhost:8080/",
          "height": 1000
        },
        "outputId": "fb21012e-e415-4c89-a40d-4e893020aa91"
      },
      "source": [
        "\n",
        "classifier=Sequential()\n",
        "\n",
        "#卷積組合\n",
        "classifier.add(Convolution2D(32, (3, 3), input_shape=(32, 32, 3), activation='relu'))#32,3,3,input_shape=(32,32,3),activation='relu''\n",
        "classifier.add(BatchNormalization())\n",
        "\n",
        "'''自己決定MaxPooling2D放在哪裡'''\n",
        "#classifier.add(MaxPooling2D(pool_size=(2,2)))\n",
        "\n",
        "#卷積組合\n",
        "classifier.add(Convolution2D(64, (3, 3)))\n",
        "classifier.add(BatchNormalization())\n",
        "classifier.add(MaxPooling2D(pool_size=(2,2)))\n",
        "#flatten\n",
        "classifier.add(Flatten())\n",
        "\n",
        "#FC\n",
        "classifier.add(Dense(units=100, activation='relu')) #output_dim=100,activation=relu\n",
        "\n",
        "#輸出\n",
        "classifier.add(Dense(units=10,activation='softmax'))\n",
        "\n",
        "#超過兩個就要選categorical_crossentrophy\n",
        "classifier.compile(optimizer = 'adam', loss = 'categorical_crossentropy', metrics = ['accuracy'])\n",
        "classifier.fit(x_train,y_train,batch_size=100,epochs=100)"
      ],
      "execution_count": 9,
      "outputs": [
        {
          "output_type": "stream",
          "text": [
            "Epoch 1/100\n",
            "50000/50000 [==============================] - 5s 108us/step - loss: 1.5009 - acc: 0.4769\n",
            "Epoch 2/100\n",
            "50000/50000 [==============================] - 5s 98us/step - loss: 1.0537 - acc: 0.6287\n",
            "Epoch 3/100\n",
            "50000/50000 [==============================] - 5s 100us/step - loss: 0.9129 - acc: 0.6808\n",
            "Epoch 4/100\n",
            "50000/50000 [==============================] - 5s 97us/step - loss: 0.8188 - acc: 0.7113\n",
            "Epoch 5/100\n",
            "50000/50000 [==============================] - 5s 98us/step - loss: 0.7379 - acc: 0.7413\n",
            "Epoch 6/100\n",
            "50000/50000 [==============================] - 5s 100us/step - loss: 0.6625 - acc: 0.7703\n",
            "Epoch 7/100\n",
            "50000/50000 [==============================] - 5s 100us/step - loss: 0.5796 - acc: 0.7972\n",
            "Epoch 8/100\n",
            "50000/50000 [==============================] - 5s 97us/step - loss: 0.5129 - acc: 0.8204\n",
            "Epoch 9/100\n",
            "50000/50000 [==============================] - 5s 96us/step - loss: 0.4394 - acc: 0.8479\n",
            "Epoch 10/100\n",
            "50000/50000 [==============================] - 5s 97us/step - loss: 0.3776 - acc: 0.8695\n",
            "Epoch 11/100\n",
            "50000/50000 [==============================] - 5s 98us/step - loss: 0.3207 - acc: 0.8894\n",
            "Epoch 12/100\n",
            "50000/50000 [==============================] - 5s 98us/step - loss: 0.2704 - acc: 0.9081\n",
            "Epoch 13/100\n",
            "50000/50000 [==============================] - 5s 97us/step - loss: 0.2256 - acc: 0.9235\n",
            "Epoch 14/100\n",
            "50000/50000 [==============================] - 5s 96us/step - loss: 0.2029 - acc: 0.9310\n",
            "Epoch 15/100\n",
            "50000/50000 [==============================] - 5s 97us/step - loss: 0.1683 - acc: 0.9432\n",
            "Epoch 16/100\n",
            "50000/50000 [==============================] - 5s 97us/step - loss: 0.1493 - acc: 0.9503\n",
            "Epoch 17/100\n",
            "50000/50000 [==============================] - 5s 98us/step - loss: 0.1273 - acc: 0.9570\n",
            "Epoch 18/100\n",
            "50000/50000 [==============================] - 5s 98us/step - loss: 0.1179 - acc: 0.9602\n",
            "Epoch 19/100\n",
            "50000/50000 [==============================] - 5s 97us/step - loss: 0.1138 - acc: 0.9614\n",
            "Epoch 20/100\n",
            "50000/50000 [==============================] - 5s 98us/step - loss: 0.0943 - acc: 0.9674\n",
            "Epoch 21/100\n",
            "50000/50000 [==============================] - 5s 98us/step - loss: 0.0932 - acc: 0.9687\n",
            "Epoch 22/100\n",
            "50000/50000 [==============================] - 5s 97us/step - loss: 0.0930 - acc: 0.9691\n",
            "Epoch 23/100\n",
            "50000/50000 [==============================] - 5s 97us/step - loss: 0.0754 - acc: 0.9754\n",
            "Epoch 24/100\n",
            "50000/50000 [==============================] - 5s 98us/step - loss: 0.0734 - acc: 0.9761\n",
            "Epoch 25/100\n",
            "50000/50000 [==============================] - 5s 98us/step - loss: 0.0825 - acc: 0.9723\n",
            "Epoch 26/100\n",
            "50000/50000 [==============================] - 5s 98us/step - loss: 0.0716 - acc: 0.9765\n",
            "Epoch 27/100\n",
            "50000/50000 [==============================] - 5s 97us/step - loss: 0.0641 - acc: 0.9774\n",
            "Epoch 28/100\n",
            "50000/50000 [==============================] - 5s 98us/step - loss: 0.0702 - acc: 0.9774\n",
            "Epoch 29/100\n",
            "50000/50000 [==============================] - 5s 97us/step - loss: 0.0676 - acc: 0.9765\n",
            "Epoch 30/100\n",
            "50000/50000 [==============================] - 5s 97us/step - loss: 0.0507 - acc: 0.9828\n",
            "Epoch 31/100\n",
            "50000/50000 [==============================] - 5s 97us/step - loss: 0.0473 - acc: 0.9842\n",
            "Epoch 32/100\n",
            "50000/50000 [==============================] - 5s 98us/step - loss: 0.0581 - acc: 0.9797\n",
            "Epoch 33/100\n",
            "50000/50000 [==============================] - 5s 97us/step - loss: 0.0617 - acc: 0.9788\n",
            "Epoch 34/100\n",
            "50000/50000 [==============================] - 5s 98us/step - loss: 0.0470 - acc: 0.9840\n",
            "Epoch 35/100\n",
            "50000/50000 [==============================] - 5s 97us/step - loss: 0.0473 - acc: 0.9845\n",
            "Epoch 36/100\n",
            "50000/50000 [==============================] - 5s 97us/step - loss: 0.0611 - acc: 0.9800\n",
            "Epoch 37/100\n",
            "50000/50000 [==============================] - 5s 97us/step - loss: 0.0485 - acc: 0.9837\n",
            "Epoch 38/100\n",
            "50000/50000 [==============================] - 5s 98us/step - loss: 0.0373 - acc: 0.9876\n",
            "Epoch 39/100\n",
            "50000/50000 [==============================] - 5s 99us/step - loss: 0.0435 - acc: 0.9856\n",
            "Epoch 40/100\n",
            "50000/50000 [==============================] - 5s 100us/step - loss: 0.0473 - acc: 0.9847\n",
            "Epoch 41/100\n",
            "50000/50000 [==============================] - 5s 97us/step - loss: 0.0465 - acc: 0.9849\n",
            "Epoch 42/100\n",
            "50000/50000 [==============================] - 5s 96us/step - loss: 0.0418 - acc: 0.9868\n",
            "Epoch 43/100\n",
            "50000/50000 [==============================] - 5s 97us/step - loss: 0.0382 - acc: 0.9871\n",
            "Epoch 44/100\n",
            "50000/50000 [==============================] - 5s 97us/step - loss: 0.0509 - acc: 0.9834\n",
            "Epoch 45/100\n",
            "50000/50000 [==============================] - 5s 96us/step - loss: 0.0354 - acc: 0.9880\n",
            "Epoch 46/100\n",
            "50000/50000 [==============================] - 5s 97us/step - loss: 0.0361 - acc: 0.9888\n",
            "Epoch 47/100\n",
            "50000/50000 [==============================] - 5s 97us/step - loss: 0.0329 - acc: 0.9895\n",
            "Epoch 48/100\n",
            "50000/50000 [==============================] - 5s 97us/step - loss: 0.0405 - acc: 0.9867\n",
            "Epoch 49/100\n",
            "50000/50000 [==============================] - 5s 97us/step - loss: 0.0392 - acc: 0.9871\n",
            "Epoch 50/100\n",
            "50000/50000 [==============================] - 5s 98us/step - loss: 0.0336 - acc: 0.9885\n",
            "Epoch 51/100\n",
            "50000/50000 [==============================] - 5s 96us/step - loss: 0.0328 - acc: 0.9894\n",
            "Epoch 52/100\n",
            "50000/50000 [==============================] - 5s 97us/step - loss: 0.0284 - acc: 0.9908\n",
            "Epoch 53/100\n",
            "50000/50000 [==============================] - 5s 96us/step - loss: 0.0322 - acc: 0.9896\n",
            "Epoch 54/100\n",
            "50000/50000 [==============================] - 5s 96us/step - loss: 0.0364 - acc: 0.9881\n",
            "Epoch 55/100\n",
            "50000/50000 [==============================] - 5s 97us/step - loss: 0.0466 - acc: 0.9861\n",
            "Epoch 56/100\n",
            "50000/50000 [==============================] - 5s 98us/step - loss: 0.0264 - acc: 0.9908\n",
            "Epoch 57/100\n",
            "50000/50000 [==============================] - 5s 96us/step - loss: 0.0251 - acc: 0.9919\n",
            "Epoch 58/100\n",
            "50000/50000 [==============================] - 5s 97us/step - loss: 0.0315 - acc: 0.9902\n",
            "Epoch 59/100\n",
            "50000/50000 [==============================] - 5s 96us/step - loss: 0.0325 - acc: 0.9895\n",
            "Epoch 60/100\n",
            "50000/50000 [==============================] - 5s 96us/step - loss: 0.0325 - acc: 0.9896\n",
            "Epoch 61/100\n",
            "50000/50000 [==============================] - 5s 97us/step - loss: 0.0191 - acc: 0.9938\n",
            "Epoch 62/100\n",
            "50000/50000 [==============================] - 5s 98us/step - loss: 0.0376 - acc: 0.9879\n",
            "Epoch 63/100\n",
            "50000/50000 [==============================] - 5s 97us/step - loss: 0.0323 - acc: 0.9896\n",
            "Epoch 64/100\n",
            "50000/50000 [==============================] - 5s 96us/step - loss: 0.0239 - acc: 0.9924\n",
            "Epoch 65/100\n",
            "50000/50000 [==============================] - 5s 97us/step - loss: 0.0224 - acc: 0.9924\n",
            "Epoch 66/100\n",
            "50000/50000 [==============================] - 5s 96us/step - loss: 0.0317 - acc: 0.9896\n",
            "Epoch 67/100\n",
            "50000/50000 [==============================] - 5s 97us/step - loss: 0.0266 - acc: 0.9917\n",
            "Epoch 68/100\n",
            "50000/50000 [==============================] - 5s 97us/step - loss: 0.0263 - acc: 0.9916\n",
            "Epoch 69/100\n",
            "50000/50000 [==============================] - 5s 98us/step - loss: 0.0325 - acc: 0.9900\n",
            "Epoch 70/100\n",
            "50000/50000 [==============================] - 5s 96us/step - loss: 0.0243 - acc: 0.9925\n",
            "Epoch 71/100\n",
            "50000/50000 [==============================] - 5s 97us/step - loss: 0.0228 - acc: 0.9927\n",
            "Epoch 72/100\n",
            "50000/50000 [==============================] - 5s 98us/step - loss: 0.0244 - acc: 0.9918\n",
            "Epoch 73/100\n",
            "50000/50000 [==============================] - 5s 96us/step - loss: 0.0215 - acc: 0.9931\n",
            "Epoch 74/100\n",
            "50000/50000 [==============================] - 5s 96us/step - loss: 0.0215 - acc: 0.9931\n",
            "Epoch 75/100\n",
            "50000/50000 [==============================] - 5s 97us/step - loss: 0.0365 - acc: 0.9890\n",
            "Epoch 76/100\n",
            "50000/50000 [==============================] - 5s 96us/step - loss: 0.0280 - acc: 0.9913\n",
            "Epoch 77/100\n",
            "50000/50000 [==============================] - 5s 96us/step - loss: 0.0258 - acc: 0.9920\n",
            "Epoch 78/100\n",
            "50000/50000 [==============================] - 5s 96us/step - loss: 0.0172 - acc: 0.9948\n",
            "Epoch 79/100\n",
            "50000/50000 [==============================] - 5s 97us/step - loss: 0.0166 - acc: 0.9945\n",
            "Epoch 80/100\n",
            "50000/50000 [==============================] - 5s 97us/step - loss: 0.0236 - acc: 0.9927\n",
            "Epoch 81/100\n",
            "50000/50000 [==============================] - 5s 98us/step - loss: 0.0352 - acc: 0.9896\n",
            "Epoch 82/100\n",
            "50000/50000 [==============================] - 5s 97us/step - loss: 0.0260 - acc: 0.9914\n",
            "Epoch 83/100\n",
            "50000/50000 [==============================] - 5s 97us/step - loss: 0.0181 - acc: 0.9946\n",
            "Epoch 84/100\n",
            "50000/50000 [==============================] - 5s 97us/step - loss: 0.0169 - acc: 0.9944\n",
            "Epoch 85/100\n",
            "50000/50000 [==============================] - 5s 96us/step - loss: 0.0162 - acc: 0.9950\n",
            "Epoch 86/100\n",
            "50000/50000 [==============================] - 5s 97us/step - loss: 0.0230 - acc: 0.9925\n",
            "Epoch 87/100\n",
            "50000/50000 [==============================] - 5s 97us/step - loss: 0.0231 - acc: 0.9929\n",
            "Epoch 88/100\n",
            "50000/50000 [==============================] - 5s 97us/step - loss: 0.0290 - acc: 0.9914\n",
            "Epoch 89/100\n",
            "50000/50000 [==============================] - 5s 97us/step - loss: 0.0179 - acc: 0.9947\n",
            "Epoch 90/100\n",
            "50000/50000 [==============================] - 5s 97us/step - loss: 0.0192 - acc: 0.9942\n",
            "Epoch 91/100\n",
            "50000/50000 [==============================] - 5s 96us/step - loss: 0.0205 - acc: 0.9940\n",
            "Epoch 92/100\n",
            "50000/50000 [==============================] - 5s 96us/step - loss: 0.0231 - acc: 0.9925\n",
            "Epoch 93/100\n",
            "50000/50000 [==============================] - 5s 97us/step - loss: 0.0193 - acc: 0.9939\n",
            "Epoch 94/100\n",
            "50000/50000 [==============================] - 5s 98us/step - loss: 0.0150 - acc: 0.9950\n",
            "Epoch 95/100\n",
            "50000/50000 [==============================] - 5s 96us/step - loss: 0.0243 - acc: 0.9925\n",
            "Epoch 96/100\n",
            "50000/50000 [==============================] - 5s 98us/step - loss: 0.0278 - acc: 0.9916\n",
            "Epoch 97/100\n",
            "50000/50000 [==============================] - 5s 98us/step - loss: 0.0249 - acc: 0.9926\n",
            "Epoch 98/100\n",
            "50000/50000 [==============================] - 5s 98us/step - loss: 0.0154 - acc: 0.9949\n",
            "Epoch 99/100\n",
            "50000/50000 [==============================] - 5s 97us/step - loss: 0.0116 - acc: 0.9961\n",
            "Epoch 100/100\n",
            "50000/50000 [==============================] - 5s 97us/step - loss: 0.0183 - acc: 0.9946\n"
          ],
          "name": "stdout"
        },
        {
          "output_type": "execute_result",
          "data": {
            "text/plain": [
              "<keras.callbacks.History at 0x7f3cf03c47b8>"
            ]
          },
          "metadata": {
            "tags": []
          },
          "execution_count": 9
        }
      ]
    },
    {
      "cell_type": "markdown",
      "metadata": {
        "id": "xRszi_GbAeJQ",
        "colab_type": "text"
      },
      "source": [
        "## 預測新圖片，輸入影像前處理要與訓練時相同\n",
        "#### ((X-mean)/(std+1e-7) ):這裡的mean跟std是訓練集的\n",
        "## 維度如下方示範"
      ]
    },
    {
      "cell_type": "code",
      "metadata": {
        "id": "QcB1BjutAeJR",
        "colab_type": "code",
        "colab": {
          "base_uri": "https://localhost:8080/",
          "height": 69
        },
        "outputId": "5694151e-611e-4c77-da9f-b196f099be8c"
      },
      "source": [
        "input_example=(np.zeros(shape=(1,32,32,3))-mean_train)/(std_train+1e-7) \n",
        "classifier.predict(input_example)"
      ],
      "execution_count": 8,
      "outputs": [
        {
          "output_type": "execute_result",
          "data": {
            "text/plain": [
              "array([[1.5031883e-08, 5.4466095e-38, 1.2060476e-12, 9.9994433e-01,\n",
              "        5.5627366e-05, 0.0000000e+00, 4.6190027e-24, 3.1369526e-21,\n",
              "        1.3261471e-11, 3.6875290e-29]], dtype=float32)"
            ]
          },
          "metadata": {
            "tags": []
          },
          "execution_count": 8
        }
      ]
    }
  ]
}