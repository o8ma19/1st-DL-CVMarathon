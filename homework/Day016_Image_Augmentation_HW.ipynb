{
  "nbformat": 4,
  "nbformat_minor": 0,
  "metadata": {
    "kernelspec": {
      "name": "python3",
      "display_name": "Python 3"
    },
    "language_info": {
      "codemirror_mode": {
        "name": "ipython",
        "version": 3
      },
      "file_extension": ".py",
      "mimetype": "text/x-python",
      "name": "python",
      "nbconvert_exporter": "python",
      "pygments_lexer": "ipython3",
      "version": "3.6.7"
    },
    "colab": {
      "name": "Day016_Image Augmentation_HW.ipynb",
      "provenance": [],
      "private_outputs": true,
      "collapsed_sections": [],
      "toc_visible": true,
      "include_colab_link": true
    },
    "accelerator": "GPU"
  },
  "cells": [
    {
      "cell_type": "markdown",
      "metadata": {
        "id": "view-in-github",
        "colab_type": "text"
      },
      "source": [
        "<a href=\"https://colab.research.google.com/github/o8ma19/1st-DL-CVMarathon/blob/master/homework/Day016_Image_Augmentation_HW.ipynb\" target=\"_parent\"><img src=\"https://colab.research.google.com/assets/colab-badge.svg\" alt=\"Open In Colab\"/></a>"
      ]
    },
    {
      "cell_type": "markdown",
      "metadata": {
        "id": "QR5bf2otUP-4",
        "colab_type": "text"
      },
      "source": [
        "## Keras-ImageDataGenerator"
      ]
    },
    {
      "cell_type": "markdown",
      "metadata": {
        "id": "X3ZRccXbUP-6",
        "colab_type": "text"
      },
      "source": [
        "## 『本次練習內容』\n",
        "#### 學習使用Keras-ImageDataGenerator 與 Imgaug 做圖像增強"
      ]
    },
    {
      "cell_type": "markdown",
      "metadata": {
        "id": "G-OPCBusUP-7",
        "colab_type": "text"
      },
      "source": [
        "## 『本次練習目的』\n",
        "  #### 熟悉Image Augmentation的實作方法\n",
        "  #### 瞭解如何導入Imgae Augmentation到原本NN架構中"
      ]
    },
    {
      "cell_type": "markdown",
      "metadata": {
        "id": "Ie2CcrLpUP-7",
        "colab_type": "text"
      },
      "source": [
        "---"
      ]
    },
    {
      "cell_type": "markdown",
      "metadata": {
        "id": "VT-0yVW_UP-8",
        "colab_type": "text"
      },
      "source": [
        "## 第一 Part"
      ]
    },
    {
      "cell_type": "code",
      "metadata": {
        "id": "fufl9LEaUP-9",
        "colab_type": "code",
        "colab": {}
      },
      "source": [
        "from keras.preprocessing.image import ImageDataGenerator\n",
        "import matplotlib.pyplot as plt\n",
        "import numpy as np\n",
        "import cv2\n",
        "%matplotlib inline\n",
        "\n",
        "##定義使用的Augmentation\n",
        "img_gen = ImageDataGenerator(featurewise_center=True,featurewise_std_normalization=True,\n",
        "                             rotation_range=10,width_shift_range=0.1,height_shift_range=0.1,shear_range=0.1 ,\n",
        "                             zoom_range=0.1,horizontal_flip=True,vertical_flip=False,dtype=np.float32)\n",
        "\n",
        "width=224\n",
        "height=224\n",
        "batch_size=4\n",
        "img = cv2.imread('/content/drive/My Drive/Colab Notebooks/Tano.JPG')  \n",
        "img = cv2.resize(img, (224,224))##改變圖片尺寸\n",
        "img = cv2.cvtColor(img, cv2.COLOR_BGR2RGB) #Cv2讀進來是BGR，轉成RGB\n",
        "img_origin=img.copy()\n",
        "img= np.array(img, dtype=np.float32)\n",
        "img_combine=np.array([img,img,img,img],dtype=np.uint8) ##輸入generator要是四維，(224,224,3)變成(4,224,224,3)\n",
        "batch_gen = img_gen.flow(img_combine, batch_size=4)\n",
        "assert next(batch_gen).shape==(batch_size, width, height, 3)\n",
        "\n",
        "plt.figure(figsize=(20,10))\n",
        "i = 1\n",
        "for batch in batch_gen:\n",
        "    plt.subplot(1, 5, 1)\n",
        "    plt.imshow(img_origin) ##原圖\n",
        "    plt.subplot(1, 5, i+1)\n",
        "    plt.imshow(batch[0, :, :, :].astype(np.uint8))\n",
        "    plt.imshow(batch[1, :, :, :].astype(np.uint8))\n",
        "    plt.imshow(batch[2, :, :, :].astype(np.uint8))\n",
        "    plt.imshow(batch[3, :, :, :].astype(np.uint8))\n",
        "    plt.axis('off')\n",
        "    i += 1\n",
        "    if i > 4:\n",
        "        break  # or the generator would loop infinitely"
      ],
      "execution_count": 0,
      "outputs": []
    },
    {
      "cell_type": "code",
      "metadata": {
        "id": "mPRyq7tk75NP",
        "colab_type": "code",
        "colab": {}
      },
      "source": [
        "from google.colab import drive\n",
        "drive.mount('/content/drive')"
      ],
      "execution_count": 0,
      "outputs": []
    },
    {
      "cell_type": "markdown",
      "metadata": {
        "id": "JUj_kr7TUP_A",
        "colab_type": "text"
      },
      "source": [
        "## 示範如何導入ImageDataGenerator到Keras訓練中"
      ]
    },
    {
      "cell_type": "code",
      "metadata": {
        "id": "OFyIYxevUP_B",
        "colab_type": "code",
        "colab": {}
      },
      "source": [
        "#Training Generator\n",
        "train_datagen = ImageDataGenerator(rescale = 2,shear_range = 0.2,zoom_range = 0.2,horizontal_flip = True)\n",
        "#Test Generator，只需要Rescale，不需要其他增強\n",
        "test_datagen = ImageDataGenerator(rescale = 1./255)\n",
        "\n",
        "#將路徑給Generator，自動產生Label\n",
        "training_set = train_datagen.flow_from_directory('dataset/training_set',\n",
        "                                                 target_size = (64, 64),\n",
        "                                                 batch_size = 32,\n",
        "                                                 class_mode = 'categorical')\n",
        "\n",
        "test_set = test_datagen.flow_from_directory('dataset/test_set',\n",
        "                                            target_size = (64, 64),\n",
        "                                            batch_size = 32,\n",
        "                                            class_mode = 'categorical')\n",
        "    \n",
        "#訓練\n",
        "classifier.fit_generator(training_set,steps_per_epoch = 250,nb_epoch = 25,\n",
        "                         validation_data = valid_set,validation_steps = 63)"
      ],
      "execution_count": 0,
      "outputs": []
    },
    {
      "cell_type": "code",
      "metadata": {
        "id": "kZwKXOVyUP_D",
        "colab_type": "code",
        "colab": {}
      },
      "source": [
        "#預測新照片\n",
        "from keras.preprocessing import image as image_utils\n",
        "test_image = image_utils.load_img('dataset/new_images/new_picture.jpg', target_size=(224, 224))\n",
        "test_image = image_utils.img_to_array(test_image)\n",
        "test_image = np.expand_dims(test_image, axis=0) \n",
        "\n",
        "result = classifier.predict_on_batch(test_image)"
      ],
      "execution_count": 0,
      "outputs": []
    },
    {
      "cell_type": "markdown",
      "metadata": {
        "id": "018EuXnrUP_F",
        "colab_type": "text"
      },
      "source": [
        "---"
      ]
    },
    {
      "cell_type": "markdown",
      "metadata": {
        "id": "GKcM1BexUP_G",
        "colab_type": "text"
      },
      "source": [
        "## 練習使用Imgaug"
      ]
    },
    {
      "cell_type": "markdown",
      "metadata": {
        "id": "NA29m-roUP_G",
        "colab_type": "text"
      },
      "source": [
        "#### 使用單項增強"
      ]
    },
    {
      "cell_type": "code",
      "metadata": {
        "id": "hZn4lnNmUP_H",
        "colab_type": "code",
        "colab": {}
      },
      "source": [
        "from imgaug import augmenters as iaa\n",
        "import matplotlib.pyplot as plt\n",
        "import numpy as np\n",
        "import cv2\n",
        "\n",
        "img = cv2.imread('/content/drive/My Drive/Colab Notebooks/Tano.JPG')  \n",
        "img = cv2.resize(img, (224,224))##改變圖片尺寸\n",
        "img = cv2.cvtColor(img, cv2.COLOR_BGR2RGB) #Cv2讀進來是BGR，轉成RGB\n",
        "img_origin=img.copy()\n",
        "img= np.array(img, dtype=np.float32)\n",
        "\n",
        "images = np.random.randint(0, 255, (5, 224, 224, 3), dtype=np.uint8)##創造一個array size==(5, 224, 224, 3)\n",
        "\n",
        "flipper = iaa.Fliplr(1.0) #水平翻轉機率==1.0\n",
        "images[0] = flipper.augment_image(img) \n",
        "\n",
        "vflipper = iaa.Flipud(0.4) #垂直翻轉機率40%\n",
        "images[1] = vflipper.augment_image(img) \n",
        "\n",
        "blurer = iaa.GaussianBlur(3.0)\n",
        "images[2] = blurer.augment_image(img) # 高斯模糊圖像( sigma of 3.0)\n",
        "\n",
        "translater = iaa.Affine(translate_px={\"x\": -16}) #向左橫移16個像素\n",
        "images[3] = translater.augment_image(img) \n",
        "\n",
        "scaler = iaa.Affine(scale={\"y\":(0.8, 1.2)}) # 縮放照片，區間(0.8-1.2倍)\n",
        "images[4] = scaler.augment_image(img)\n",
        "\n",
        "i=1\n",
        "plt.figure(figsize=(20,20))\n",
        "for image in images:\n",
        "    plt.subplot(1, 6, 1)\n",
        "    plt.imshow(img_origin.astype(np.uint8))\n",
        "    plt.subplot(1, 6, i+1)\n",
        "    plt.imshow(image.astype(np.uint8))\n",
        "    plt.axis('off')\n",
        "    i+=1"
      ],
      "execution_count": 0,
      "outputs": []
    },
    {
      "cell_type": "markdown",
      "metadata": {
        "id": "H9uLZmFIUP_J",
        "colab_type": "text"
      },
      "source": [
        "---"
      ]
    },
    {
      "cell_type": "markdown",
      "metadata": {
        "id": "lPIM6DVLUP_K",
        "colab_type": "text"
      },
      "source": [
        "## 第二Part"
      ]
    },
    {
      "cell_type": "markdown",
      "metadata": {
        "id": "RwMusWpcUP_K",
        "colab_type": "text"
      },
      "source": [
        "#### 打包多種Augmentation"
      ]
    },
    {
      "cell_type": "markdown",
      "metadata": {
        "id": "JiGopfUyUP_L",
        "colab_type": "text"
      },
      "source": [
        "#### 請學員自行練習新增以及改變Augmentation內容\n",
        "#### 可參考Github: https://github.com/aleju/imgaug"
      ]
    },
    {
      "cell_type": "code",
      "metadata": {
        "id": "7C_yKfRnUP_M",
        "colab_type": "code",
        "colab": {}
      },
      "source": [
        "import numpy as np\n",
        "import imgaug as ia\n",
        "import imgaug.augmenters as iaa\n",
        "import matplotlib.pyplot as plt\n",
        "%matplotlib inline\n",
        "\n",
        "##輸入照片\n",
        "img = cv2.imread('/content/drive/My Drive/Colab Notebooks/Tano.JPG')  \n",
        "img = cv2.resize(img, (224,224))##改變圖片尺寸\n",
        "img = cv2.cvtColor(img, cv2.COLOR_BGR2RGB) #Cv2讀進來是BGR，轉成RGB\n",
        "img_origin=img.copy()\n",
        "#img= np.array(img, dtype=np.float32)\n",
        "img= np.array(img) # Nelson add\n",
        "\n",
        "#img_combine=np.array([img,img,img,img],dtype=np.float32) \n",
        "img_combine=np.array([img,img,img,img],dtype=np.uint8) # Nelson add\n",
        "\n",
        "sometimes = lambda aug: iaa.Sometimes(0.5, aug) # Sometimes(0.5, ...) 代表每次都有50%的機率運用不同的Augmentation\n",
        "\n",
        "##包裝想運用之圖像強化方式\n",
        "seq = iaa.Sequential([\n",
        "    iaa.Crop(px=(0, 16)),\n",
        "    iaa.Fliplr(0.4), \n",
        "   sometimes(iaa.CropAndPad(\n",
        "        percent=(-0.05, 0.1),\n",
        "        pad_mode=ia.ALL,\n",
        "        pad_cval=(0, 255)\n",
        "    )),\n",
        "    sometimes(iaa.Affine(\n",
        "        scale={\"x\": (0.8, 1.2), \"y\": (0.8, 1.2)}, \n",
        "        translate_percent={\"x\": (-0.2, 0.2), \"y\": (-0.2, 0.2)}, \n",
        "        rotate=(-10, 10),\n",
        "        shear=(-8, 8), \n",
        "        order=[0, 1], \n",
        "        cval=(0, 255),\n",
        "        mode=ia.ALL \n",
        "    )),\n",
        "    sometimes(iaa.Superpixels(p_replace=(0, 1.0), n_segments=(20, 200))), # convert images into their superpixel representation\n",
        "    sometimes(iaa.OneOf([\n",
        "    iaa.GaussianBlur((0, 3.0)), # blur images \n",
        "                    iaa.AverageBlur(k=(1,3)), # blur image using local means with kernel sizes between 1 and 3\n",
        "                    iaa.MedianBlur(k=(3, 5)), # blur image using local medians with kernel sizes between 3 and 5\n",
        "                ])),\n",
        "     sometimes(iaa.Sharpen(alpha=(0, 0.2), lightness=(0.1, 0.4))), # sharpen images\n",
        "     sometimes(iaa.Emboss(alpha=(0, 0.3), strength=(0, 0.5))), # emboss images\n",
        "    ],random_order=True)\n",
        "\n",
        "\n",
        "\n",
        "images_aug = seq.augment_images(img_combine) ## Image Augmentation\n",
        "\n",
        "##畫出來\n",
        "i=1\n",
        "plt.figure(figsize=(20,20))\n",
        "for image in images_aug:\n",
        "    plt.subplot(1, 5, 1)\n",
        "    plt.imshow(img_origin.astype(np.uint8))\n",
        "    plt.subplot(1, 5, i+1)\n",
        "    plt.imshow(image.astype(np.uint8))\n",
        "    plt.axis('off')\n",
        "    i+=1"
      ],
      "execution_count": 0,
      "outputs": []
    },
    {
      "cell_type": "markdown",
      "metadata": {
        "id": "oxGUxCX8UP_O",
        "colab_type": "text"
      },
      "source": [
        "## 包裝自定義Augmentation 與 Imgaug Augmentation"
      ]
    },
    {
      "cell_type": "code",
      "metadata": {
        "id": "vF85b2qRUP_O",
        "colab_type": "code",
        "colab": {}
      },
      "source": [
        "from PIL import Image\n",
        "import os\n",
        "import pickle\n",
        "import numpy as np\n",
        "import cv2\n",
        "import glob\n",
        "import pandas as pd\n",
        "import time\n",
        "import random\n",
        "import imgaug as ia\n",
        "import imgaug.augmenters as iaa\n",
        "\n",
        "'''隨機改變亮度'''    \n",
        "class RandomBrightness(object):\n",
        "    '''Function to randomly make image brighter or darker\n",
        "    Parameters\n",
        "    ----------\n",
        "    delta: float\n",
        "        the bound of random.uniform distribution\n",
        "    '''\n",
        "    def __init__(self, delta=16):\n",
        "        assert 0 <= delta <= 255\n",
        "        self.delta = delta\n",
        "\n",
        "    def __call__(self, image):\n",
        "        delta = random.uniform(-self.delta, self.delta)\n",
        "        if random.randint(0, 1):\n",
        "            image = image + delta\n",
        "        image = np.clip(image, 0.0, 255.0)\n",
        "        return image\n",
        "    \n",
        "'''隨機改變對比'''\n",
        "class RandomContrast(object):\n",
        "    '''Function to strengthen or weaken the contrast in each image\n",
        "    Parameters\n",
        "    ----------\n",
        "    lower: float\n",
        "        lower bound of random.uniform distribution\n",
        "    upper: float\n",
        "        upper bound of random.uniform distribution\n",
        "    '''\n",
        "    def __init__(self, lower=0.5, upper=1.5):\n",
        "        assert upper >= lower, \"contrast upper must be >= lower.\"\n",
        "        assert lower >= 0, \"contrast lower must be non-negative.\"\n",
        "        self.lower = lower\n",
        "        self.upper = upper\n",
        "\n",
        "    def __call__(self, image):\n",
        "        alpha = random.uniform(self.lower, self.upper)\n",
        "        if random.randint(0, 1):\n",
        "            image = image * alpha\n",
        "        image = np.clip(image, 0.0, 255.0)\n",
        "        return image\n",
        "    \n",
        "'''包裝所有Augmentation'''\n",
        "class Compose(object):\n",
        "    def __init__(self, transforms):\n",
        "        self.transforms = transforms\n",
        "\n",
        "    def __call__(self, image):\n",
        "        for t in self.transforms:\n",
        "            image= t(image)\n",
        "        return image\n",
        "\n",
        "'''包裝Imgaug'''\n",
        "class ImgAugSequence(object):\n",
        "    def __init__(self, sequence):\n",
        "        self.sequence = sequence\n",
        "\n",
        "    def __call__(self, image):\n",
        "        image = self.sequence.augment_image(image)\n",
        "      \n",
        "        return image\n",
        "    \n",
        "class TrainAugmentations(object):\n",
        "    def __init__(self):\n",
        "        #Define imgaug.augmenters Sequential transforms\n",
        "        sometimes = lambda aug: iaa.Sometimes(0.4, aug) # applies the given augmenter in 50% of all cases\n",
        "\n",
        "        img_seq = iaa.Sequential([\n",
        "             sometimes(iaa.AdditiveGaussianNoise(loc=0, scale=(0.0, 0.03*255), per_channel=0.5)),\n",
        "             sometimes(iaa.ContrastNormalization((0.5, 2.0), per_channel=1),),\n",
        "             sometimes(iaa.Sharpen(alpha=(0, 0.2), lightness=(0.1, 0.4))), # sharpen images\n",
        "             sometimes(iaa.Emboss(alpha=(0, 0.3), strength=(0, 0.5))), # emboss images\n",
        "            ],random_order=True)\n",
        "        \n",
        "        self.aug_pipeline = Compose([\n",
        "            RandomBrightness(16), #make image brighter or darker\n",
        "            RandomContrast(0.9, 1.1), #strengthen or weaken the contrast in each image\n",
        "            ImgAugSequence(img_seq),\n",
        "        ])\n",
        "        \n",
        "\n",
        "    def __call__(self, image):\n",
        "        image= self.aug_pipeline(image)\n",
        "        return image\n",
        "    \n",
        "Augmenation=TrainAugmentations()"
      ],
      "execution_count": 0,
      "outputs": []
    },
    {
      "cell_type": "code",
      "metadata": {
        "id": "GgJ95osKUP_Q",
        "colab_type": "code",
        "colab": {}
      },
      "source": [
        "import numpy as np\n",
        "import imgaug as ia\n",
        "import imgaug.augmenters as iaa\n",
        "import matplotlib.pyplot as plt\n",
        "%matplotlib inline\n",
        "\n",
        "##輸入照片\n",
        "img = cv2.imread('/content/drive/My Drive/Colab Notebooks/Tano.JPG')   \n",
        "img = cv2.resize(img, (224,224))##改變圖片尺寸\n",
        "img = cv2.cvtColor(img, cv2.COLOR_BGR2RGB) #Cv2讀進來是BGR，轉成RGB\n",
        "\n",
        "output=Augmenation(img) \n",
        "\n",
        "##畫出來\n",
        "plt.figure(figsize=(10,10))\n",
        "for image in images_aug:\n",
        "    plt.imshow(output.astype(np.uint8))\n",
        "    plt.axis('off')\n"
      ],
      "execution_count": 0,
      "outputs": []
    },
    {
      "cell_type": "markdown",
      "metadata": {
        "id": "IaCRqrpCUP_S",
        "colab_type": "text"
      },
      "source": [
        "## 鎖住隨機性-主要用在Semantic segmentation中"
      ]
    },
    {
      "cell_type": "code",
      "metadata": {
        "id": "cmLiPgw7UP_T",
        "colab_type": "code",
        "colab": {}
      },
      "source": [
        "class MaskAugSequence(object):\n",
        "    def __init__(self, sequence):\n",
        "        self.sequence = sequence\n",
        "\n",
        "    def __call__(self, image, mask):\n",
        "        sequence = self.sequence.to_deterministic() ##用來關閉隨機性\n",
        "        image = sequence.augment_image(image)\n",
        "        mask = sequence.augment_image(mask)\n",
        "        image,  mask= image.astype(np.float32), mask.astype(np.float32)\n",
        "        return image,  mask"
      ],
      "execution_count": 0,
      "outputs": []
    },
    {
      "cell_type": "code",
      "metadata": {
        "id": "SwIvZBgnUP_V",
        "colab_type": "code",
        "colab": {}
      },
      "source": [
        ""
      ],
      "execution_count": 0,
      "outputs": []
    }
  ]
}